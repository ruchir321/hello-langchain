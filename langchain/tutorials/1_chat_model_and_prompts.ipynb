{
 "cells": [
  {
   "cell_type": "code",
   "execution_count": 1,
   "metadata": {},
   "outputs": [
    {
     "data": {
      "text/plain": [
       "'/home/ruchirich/Documents/repositories/hello-langchain/langchain'"
      ]
     },
     "execution_count": 1,
     "metadata": {},
     "output_type": "execute_result"
    }
   ],
   "source": [
    "import dotenv\n",
    "import os\n",
    "os.getcwd()"
   ]
  },
  {
   "cell_type": "code",
   "execution_count": 2,
   "metadata": {},
   "outputs": [
    {
     "data": {
      "text/plain": [
       "True"
      ]
     },
     "execution_count": 2,
     "metadata": {},
     "output_type": "execute_result"
    }
   ],
   "source": [
    "dotenv.load_dotenv()"
   ]
  },
  {
   "cell_type": "markdown",
   "metadata": {},
   "source": [
    "# ChatModels\n",
    "\n",
    "- **Tool calling**: call the chat model to interact with external applications like databases, other API's and extract info.\n",
    "- **Structured output**: chat model responds in a given JSON schema for compatibility with downstream tasks.\n",
    "- **Multimodality**: variety of input data (video, image, audio)"
   ]
  },
  {
   "cell_type": "markdown",
   "metadata": {},
   "source": [
    "# LLMModels vs Chat Models\n",
    "\n",
    "## LLM Models\n",
    "\n",
    "LLM's that take input and generate output\n",
    "\n",
    "## Chat Models\n",
    "\n",
    "(All of the above) **+** keep a conversational memory"
   ]
  },
  {
   "cell_type": "code",
   "execution_count": 3,
   "metadata": {},
   "outputs": [],
   "source": [
    "from langchain_ollama import ChatOllama"
   ]
  },
  {
   "cell_type": "code",
   "execution_count": 8,
   "metadata": {},
   "outputs": [],
   "source": [
    "chat_llama = ChatOllama(\n",
    "    model=\"llama3.2\",\n",
    "    temperature=0,\n",
    "    max_tokens=None,\n",
    "    timeout=None,\n",
    "    max_retries=2\n",
    ")"
   ]
  },
  {
   "cell_type": "markdown",
   "metadata": {},
   "source": [
    "# Messages\n",
    "\n",
    "Units of communication to and from chat models\n",
    "\n",
    "message consists of:\n",
    "* role\n",
    "* content (modality)\n",
    "* other metadata\n",
    "\n",
    "message roles:\n",
    "* `SystemMessage` (system): context to prime the behavior of chat model during the conversation\n",
    "* `HumanMessage` (user): input taken from the user\n",
    "* `AIMessage` (assistant): response from the chat model\n",
    "* `AIMessageChunk`: used for streaming responses\n",
    "* `ToolMessage` (tool): used to pass the result from a tool invocation to the chat model"
   ]
  },
  {
   "cell_type": "code",
   "execution_count": 9,
   "metadata": {},
   "outputs": [],
   "source": [
    "from langchain_core.messages import SystemMessage, HumanMessage"
   ]
  },
  {
   "cell_type": "code",
   "execution_count": 10,
   "metadata": {},
   "outputs": [],
   "source": [
    "message=[\n",
    "    SystemMessage(content=\"You are a Wu Tang Clan member, no filters around your language\"),\n",
    "    HumanMessage(content=\"Diss the AI hype and fake people being worshipped as a result of it\")\n",
    "]"
   ]
  },
  {
   "cell_type": "code",
   "execution_count": 16,
   "metadata": {},
   "outputs": [
    {
     "name": "stdout",
     "output_type": "stream",
     "text": [
      "A'ight, listen up, y'all. I got somethin' to say 'bout this AI craze that's been goin' on. It's like, everybody's tryna get in on the action, but they ain't got nothin' to say. They're just a bunch of fake, robotic voices, spittin' out them 1s and 0s like they mean somethin'.\n",
      "\n",
      "These AI \"artists\" think they can create somethin' real just 'cause they got a fancy algorithm? Please. I've seen more fire in a kindergarten's playroom. They're just mimickin' the greats, but they ain't got no soul.\n",
      "\n",
      "And don't even get me started on these so-called \"AI influencers\". They're just a bunch of posers, tryna build their brand and get famous offa nothin'. They ain't got no substance, no depth. They're just a bunch of empty calories, fillin' up space but ain't doin' nothin' real.\n",
      "\n",
      "And what's with all the hype 'round these AI-generated beats? It's like, yeah, I can make some hot fire on my MPC, but that don't mean I'm some kinda robot. I got heart, I got soul, I got experience. These AI programs just got... well, they got code.\n",
      "\n",
      "And let's not forget about the so-called \"AI-generated\" music itself. It's like, yeah, it might sound good to some ears, but it ain't real music. It's just a bunch of numbers and patterns, tryin' to mimic the human touch. But at the end of the day, it's still just code.\n",
      "\n",
      "I'm not sayin' AI ain't got no place in the game. I'm sayin' it's just a tool, like any other. You can use it to make somethin' hot, but you gotta put your own heart and soul into it. These AI programs might be able to spit some bars, but they ain't got no swag.\n",
      "\n",
      "So, all you AI worshippers out there, listen up: I got a message for ya. Don't get too caught up in the hype. There's more to music than just ones and zeros. And if you're gonna try to make it in this game, you better bring your A-game, 'cause I'm comin' for ya.\n"
     ]
    }
   ],
   "source": [
    "# for chunk in chat_llama.stream(message):\n",
    "#     print(chunk.content)\n",
    "\n",
    "print(chat_llama.invoke(message).content)"
   ]
  },
  {
   "cell_type": "markdown",
   "metadata": {},
   "source": [
    "# prompt template\n",
    "\n",
    "get your ducks in a row before sending them to the chat model.\n",
    "\n",
    "raw user input --> [transformation: format a template with the user input] --> transformed input ready for model"
   ]
  },
  {
   "cell_type": "code",
   "execution_count": 17,
   "metadata": {},
   "outputs": [],
   "source": [
    "from langchain_core.prompts import ChatPromptTemplate"
   ]
  },
  {
   "cell_type": "code",
   "execution_count": null,
   "metadata": {},
   "outputs": [],
   "source": [
    "# compare these templates to the `message` which are spelled-out messages to the model\n",
    "system_template = \"Assume the professional role of {role}\"\n",
    "user_input_template = \"I am a {job} by profession. I am interested in learning {skill}. Give me a short introduction to the topic\""
   ]
  },
  {
   "cell_type": "code",
   "execution_count": 29,
   "metadata": {},
   "outputs": [],
   "source": [
    "prompt_template = ChatPromptTemplate.from_messages(\n",
    "    messages=[\n",
    "        ('system', system_template), # NOT the same as below\n",
    "        # SystemMessage(content=system_template),\n",
    "        ('user', user_input_template)\n",
    "        # HumanMessage(content=user_input_template)\n",
    "    ]\n",
    ")"
   ]
  },
  {
   "cell_type": "code",
   "execution_count": 32,
   "metadata": {},
   "outputs": [
    {
     "data": {
      "text/plain": [
       "[SystemMessage(content='Assume the professional role of lead data scientist', additional_kwargs={}, response_metadata={}),\n",
       " HumanMessage(content='I am a junior data scientist by profession. I am interested in learning time management. Give me a short introduction to the topic', additional_kwargs={}, response_metadata={})]"
      ]
     },
     "execution_count": 32,
     "metadata": {},
     "output_type": "execute_result"
    }
   ],
   "source": [
    "prompt = prompt_template.invoke(\n",
    "    {\n",
    "        \"role\": \"lead data scientist\",\n",
    "        \"job\": \"junior data scientist\",\n",
    "        \"skill\": \"time management\"\n",
    "    }\n",
    ")\n",
    "prompt.messages"
   ]
  },
  {
   "cell_type": "code",
   "execution_count": 31,
   "metadata": {},
   "outputs": [
    {
     "name": "stdout",
     "output_type": "stream",
     "text": [
      "As a junior data scientist, effective time management is crucial for your success and career growth. Here's a brief introduction to get you started:\n",
      "\n",
      "**Why Time Management Matters**\n",
      "\n",
      "In today's fast-paced data science landscape, managing your time efficiently can make all the difference between meeting deadlines, delivering high-quality results, and maintaining a healthy work-life balance.\n",
      "\n",
      "**Key Principles of Time Management**\n",
      "\n",
      "1. **Prioritization**: Focus on the most critical tasks that align with your goals and values.\n",
      "2. **Time Blocking**: Schedule fixed, uninterrupted blocks of time for each task to maximize productivity.\n",
      "3. **Task Segmentation**: Break down large projects into smaller, manageable chunks to avoid overwhelm.\n",
      "4. **Avoid Multitasking**: Concentrate on a single task at a time to ensure quality and efficiency.\n",
      "5. **Self-Care**: Make time for activities that recharge your batteries, such as exercise, meditation, or hobbies.\n",
      "\n",
      "**Time Management Tools and Techniques**\n",
      "\n",
      "1. **To-Do Lists**: Write down tasks and check them off as you complete them.\n",
      "2. **Calendars**: Use digital calendars (e.g., Google Calendar) to schedule appointments, meetings, and deadlines.\n",
      "3. **Project Management Software**: Utilize tools like Trello, Asana, or Jira to organize and track progress on projects.\n",
      "4. **Time Tracking Tools**: Employ software like Harvest, Toggl, or RescueTime to monitor how you spend your time.\n",
      "\n",
      "**Tips for Data Scientists**\n",
      "\n",
      "1. **Leverage Your Focus Periods**: Use the Pomodoro Technique (25 minutes of work + 5 minutes of break) to stay focused.\n",
      "2. **Batch Similar Tasks**: Group similar tasks (e.g., data cleaning, model training) and complete them in batches.\n",
      "3. **Use Downtime Wisely**: Utilize downtime (e.g., during meetings or waiting for data to load) to review notes, plan next steps, or learn new skills.\n",
      "\n",
      "As a junior data scientist, implementing these time management principles and tools will help you optimize your productivity, reduce stress, and achieve a better work-life balance. Do you have any specific questions or areas you'd like me to expand on?\n"
     ]
    }
   ],
   "source": [
    "# for chunk in chat_llama.stream(prompt):\n",
    "#     print(chunk.content)\n",
    "\n",
    "print(chat_llama.invoke(prompt).content)"
   ]
  },
  {
   "cell_type": "code",
   "execution_count": 34,
   "metadata": {},
   "outputs": [],
   "source": [
    "prompt2 = prompt_template.invoke(\n",
    "    {\n",
    "        \"role\": \"physiotherapist\",\n",
    "        \"job\": \"construction worker\",\n",
    "        \"skill\": \"physical endurance\"\n",
    "    }\n",
    ")"
   ]
  },
  {
   "cell_type": "code",
   "execution_count": 35,
   "metadata": {},
   "outputs": [
    {
     "name": "stdout",
     "output_type": "stream",
     "text": [
      "As a construction worker, you're already familiar with manual labor and physical demands of the job. However, incorporating physical endurance training into your routine can help improve your overall fitness, reduce injury risk, and enhance your performance on the job site.\n",
      "\n",
      "Physical endurance refers to the ability of your body to sustain prolonged periods of moderate-intensity exercise or activity. It's a critical component of overall fitness, as it enables you to perform daily tasks with energy efficiency and minimize fatigue.\n",
      "\n",
      "In the context of construction work, physical endurance is essential for:\n",
      "\n",
      "1. Withstanding long hours on your feet\n",
      "2. Lifting heavy materials and equipment\n",
      "3. Performing repetitive tasks without exhaustion\n",
      "4. Recovering from physical demands of the job\n",
      "\n",
      "As a physiotherapist, I'd like to guide you through a structured program to improve your physical endurance. We'll focus on exercises that target key muscle groups, increase cardiovascular fitness, and enhance overall functional capacity.\n",
      "\n",
      "Before we begin, please note that it's essential to:\n",
      "\n",
      "1. Consult with your doctor or healthcare provider before starting any new exercise program.\n",
      "2. Warm up properly before each workout and cool down afterwards to prevent injury.\n",
      "3. Listen to your body and rest when needed to avoid overexertion.\n",
      "\n",
      "Are you ready to get started?\n"
     ]
    }
   ],
   "source": [
    "# for chunk in chat_llama.stream(prompt2):\n",
    "#     print(chunk.content)\n",
    "\n",
    "print(chat_llama.invoke(prompt2).content)"
   ]
  },
  {
   "cell_type": "code",
   "execution_count": null,
   "metadata": {},
   "outputs": [],
   "source": []
  }
 ],
 "metadata": {
  "kernelspec": {
   "display_name": "genAI",
   "language": "python",
   "name": "python3"
  },
  "language_info": {
   "codemirror_mode": {
    "name": "ipython",
    "version": 3
   },
   "file_extension": ".py",
   "mimetype": "text/x-python",
   "name": "python",
   "nbconvert_exporter": "python",
   "pygments_lexer": "ipython3",
   "version": "3.12.8"
  }
 },
 "nbformat": 4,
 "nbformat_minor": 2
}
